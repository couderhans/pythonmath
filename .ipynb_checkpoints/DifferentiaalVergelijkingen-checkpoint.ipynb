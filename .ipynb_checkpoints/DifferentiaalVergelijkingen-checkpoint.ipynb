{
 "cells": [
  {
   "cell_type": "markdown",
   "metadata": {},
   "source": [
    "Eerst importeren we numpy voor wiskundige dingen in Python"
   ]
  },
  {
   "cell_type": "code",
   "execution_count": 30,
   "metadata": {},
   "outputs": [],
   "source": [
    "import numpy as np\n",
    "import matplotlib.pyplot as plt"
   ]
  },
  {
   "cell_type": "markdown",
   "metadata": {},
   "source": [
    "Voeg physieke constanten toe:"
   ]
  },
  {
   "cell_type": "code",
   "execution_count": 3,
   "metadata": {},
   "outputs": [],
   "source": [
    "g = 9.8\n",
    "L = 2\n",
    "mu = 0.1"
   ]
  },
  {
   "cell_type": "markdown",
   "metadata": {},
   "source": [
    "We beginnen met een initiele hoek van 60° + initiele hoek snelheid 0"
   ]
  },
  {
   "cell_type": "code",
   "execution_count": 4,
   "metadata": {},
   "outputs": [],
   "source": [
    "THETA_0 = np.pi / 30\n",
    "THETA_DOT_0 = 0"
   ]
  },
  {
   "cell_type": "code",
   "execution_count": 31,
   "metadata": {},
   "outputs": [],
   "source": [
    "ydata = []\n",
    "xdata = []"
   ]
  },
  {
   "cell_type": "code",
   "execution_count": null,
   "metadata": {},
   "outputs": [],
   "source": [
    "Definitie ODE\n"
   ]
  },
  {
   "cell_type": "code",
   "execution_count": 5,
   "metadata": {},
   "outputs": [],
   "source": [
    "def get_theta_double_dot(theta, theta_dot):\n",
    "    return -mu * theta_dot - (g / L) * np.sin(theta) "
   ]
  },
  {
   "cell_type": "code",
   "execution_count": null,
   "metadata": {},
   "outputs": [],
   "source": [
    "Oplossing differentiaal vergelijking, de theta functie"
   ]
  },
  {
   "cell_type": "code",
   "execution_count": null,
   "metadata": {},
   "outputs": [],
   "source": [
    "Initieren de veranderlijke waarden"
   ]
  },
  {
   "cell_type": "code",
   "execution_count": null,
   "metadata": {},
   "outputs": [],
   "source": [
    "Dan creeren we de delta t met stapjes van 0.1"
   ]
  },
  {
   "cell_type": "code",
   "execution_count": 36,
   "metadata": {},
   "outputs": [
    {
     "ename": "SyntaxError",
     "evalue": "invalid syntax (<ipython-input-36-51b9c9b88c21>, line 9)",
     "output_type": "error",
     "traceback": [
      "\u001b[0;36m  File \u001b[0;32m\"<ipython-input-36-51b9c9b88c21>\"\u001b[0;36m, line \u001b[0;32m9\u001b[0m\n\u001b[0;31m    //print(\"tijd: \" + str(time) + \" theta: \" + str(theta))\u001b[0m\n\u001b[0m     ^\u001b[0m\n\u001b[0;31mSyntaxError\u001b[0m\u001b[0;31m:\u001b[0m invalid syntax\n"
     ]
    }
   ],
   "source": [
    "def theta(t):\n",
    "    theta = THETA_0\n",
    "    theta_dot = THETA_DOT_0\n",
    "    delta_t = 0.1\n",
    "    for time in np.arange(0, t, delta_t):\n",
    "        theta_double_dot = get_theta_double_dot(theta, theta_dot)\n",
    "        theta += theta_dot * delta_t\n",
    "        theta_dot += theta_double_dot * delta_t\n",
    "        #print(\"tijd: \" + str(time) + \" theta: \" + str(theta))\n",
    "        xdata.append(time)\n",
    "        ydata.append(theta)\n",
    "    return theta"
   ]
  },
  {
   "cell_type": "markdown",
   "metadata": {},
   "source": [
    "En dan retourneren we theta als uitkomst"
   ]
  },
  {
   "cell_type": "markdown",
   "metadata": {},
   "source": [
    "Lets call theta"
   ]
  },
  {
   "cell_type": "code",
   "execution_count": 34,
   "metadata": {},
   "outputs": [],
   "source": [
    "def main():\n",
    "    print('Uitkomst theta:')\n",
    "    print(theta(25))\n",
    "    plt.plot(xdata,ydata)\n",
    "    plt.show()"
   ]
  },
  {
   "cell_type": "code",
   "execution_count": 35,
   "metadata": {},
   "outputs": [
    {
     "name": "stdout",
     "output_type": "stream",
     "text": [
      "Uitkomst theta:\n",
      "tijd: 0.0 theta: 0.10471975511965977\n",
      "tijd: 0.1 theta: 0.09959786041954474\n",
      "tijd: 0.2 theta: 0.08940528996631586\n",
      "tijd: 0.30000000000000004 theta: 0.07444241459426224\n",
      "tijd: 0.4 theta: 0.05525414269341432\n",
      "tijd: 0.5 theta: 0.03261344330320026\n",
      "tijd: 0.6000000000000001 theta: 0.007493075356110539\n",
      "tijd: 0.7000000000000001 theta: -0.018973864356117406\n",
      "tijd: 0.8 theta: -0.04554329192790385\n",
      "tijd: 0.9 theta: -0.07091736165384634\n",
      "tijd: 1.0 theta: -0.09380684076635845\n",
      "tijd: 1.1 theta: -0.11299538637984549\n",
      "tijd: 1.2000000000000002 theta: -0.12740224974719322\n",
      "tijd: 1.3 theta: -0.136140045244365\n",
      "tijd: 1.4000000000000001 theta: -0.13856462676694178\n",
      "tijd: 1.5 theta: -0.13431468758748202\n",
      "tijd: 1.6 theta: -0.12333928734934674\n",
      "tijd: 1.7000000000000002 theta: -0.10591199219240252\n",
      "tijd: 1.8 theta: -0.08263065644400863\n",
      "tijd: 1.9000000000000001 theta: -0.05440214341916044\n",
      "tijd: 2.0 theta: -0.02241161931891955\n",
      "tijd: 2.1 theta: 0.01192338986200666\n",
      "tijd: 2.2 theta: 0.047013126368518295\n",
      "tijd: 2.3000000000000003 theta: 0.08116773325006936\n",
      "tijd: 2.4000000000000004 theta: 0.11267799937540979\n",
      "tijd: 2.5 theta: 0.13990030959146474\n",
      "tijd: 2.6 theta: 0.16134085053228436\n",
      "tijd: 2.7 theta: 0.17573421051691973\n",
      "tijd: 2.8000000000000003 theta: 0.18211218932751239\n",
      "tijd: 2.9000000000000004 theta: 0.1798596650780818\n",
      "tijd: 3.0 theta: 0.16875541147419662\n",
      "tijd: 3.1 theta: 0.14899651670860709\n",
      "tijd: 3.2 theta: 0.12120538791854274\n",
      "tijd: 3.3000000000000003 theta: 0.08641832415132802\n",
      "tijd: 3.4000000000000004 theta: 0.0460545978830667\n",
      "tijd: 3.5 theta: 0.0018652796541556993\n",
      "tijd: 3.6 theta: -0.044138023028843065\n",
      "tijd: 3.7 theta: -0.08977269133506538\n",
      "tijd: 3.8000000000000003 theta: -0.1327889519980111\n",
      "tijd: 3.9000000000000004 theta: -0.17098209430292408\n",
      "tijd: 4.0 theta: -0.20230575156838224\n",
      "tijd: 4.1000000000000005 theta: -0.22497881224033947\n",
      "tijd: 4.2 theta: -0.2375796413598008\n",
      "tijd: 4.3 theta: -0.23912326247752547\n",
      "tijd: 4.4 theta: -0.2291192510195018\n",
      "tijd: 4.5 theta: -0.2076095842663177\n",
      "tijd: 4.6000000000000005 theta: -0.17518614008329872\n",
      "tijd: 4.7 theta: -0.1329869814477546\n",
      "tijd: 4.800000000000001 theta: -0.08266953424740942\n",
      "tijd: 4.9 theta: -0.026358090011208687\n",
      "tijd: 5.0 theta: 0.03343643449773462\n",
      "tijd: 5.1000000000000005 theta: 0.09392441062725601\n",
      "tijd: 5.2 theta: 0.1521694269724969\n",
      "tijd: 5.300000000000001 theta: 0.20523646080151509\n",
      "tijd: 5.4 theta: 0.25034526484910014\n",
      "tijd: 5.5 theta: 0.2850168463321332\n",
      "tijd: 5.6000000000000005 theta: 0.3072025266811033\n",
      "tijd: 5.7 theta: 0.31538884294290137\n",
      "tijd: 5.800000000000001 theta: 0.30867602343587575\n",
      "tijd: 5.9 theta: 0.28683121036925785\n",
      "tijd: 6.0 theta: 0.2503187678297534\n",
      "tijd: 6.1000000000000005 theta: 0.20030864797314268\n",
      "tijd: 6.2 theta: 0.13866070188041446\n",
      "tijd: 6.300000000000001 theta: 0.06787961622099965\n",
      "tijd: 6.4 theta: -0.008966281559773331\n",
      "tijd: 6.5 theta: -0.0883672678985303\n",
      "tijd: 6.6000000000000005 theta: -0.1665349024642833\n",
      "tijd: 6.7 theta: -0.23959649768439878\n",
      "tijd: 6.800000000000001 theta: -0.3038049335013244\n",
      "tijd: 6.9 theta: -0.3557430621317951\n",
      "tijd: 7.0 theta: -0.3925033100011769\n",
      "tijd: 7.1000000000000005 theta: -0.4118298924501248\n",
      "tijd: 7.2 theta: -0.41222058385173327\n",
      "tijd: 7.300000000000001 theta: -0.39299331062424026\n",
      "tijd: 7.4 theta: -0.35432671065472604\n",
      "tijd: 7.5 theta: -0.2972819695388484\n",
      "tijd: 7.6000000000000005 theta: -0.22380668585782038\n",
      "tijd: 7.7 theta: -0.13671295326941157\n",
      "tijd: 7.800000000000001 theta: -0.039614952576720375\n",
      "tijd: 7.9 theta: 0.06319015464836125\n",
      "tijd: 8.0 theta: 0.16690783579965135\n",
      "tijd: 8.1 theta: 0.2664940827474005\n",
      "tijd: 8.200000000000001 theta: 0.3569439034221073\n",
      "tijd: 8.3 theta: 0.43358503162638307\n",
      "tijd: 8.4 theta: 0.4923385408713901\n",
      "tijd: 8.5 theta: 0.5299183024361673\n",
      "tijd: 8.6 theta: 0.5439605558126708\n",
      "tijd: 8.700000000000001 theta: 0.5330947069915853\n",
      "tijd: 8.8 theta: 0.4969785979366297\n",
      "tijd: 8.9 theta: 0.43632179846252256\n",
      "tijd: 9.0 theta: 0.3529097475792252\n",
      "tijd: 9.1 theta: 0.24962398932150076\n",
      "tijd: 9.200000000000001 theta: 0.1304352338617331\n",
      "tijd: 9.3 theta: 0.00033342455909318724\n",
      "tijd: 9.4 theta: -0.1348405855408812\n",
      "tijd: 9.5 theta: -0.2686791933429487\n",
      "tijd: 9.600000000000001 theta: -0.394592230147389\n",
      "tijd: 9.700000000000001 theta: -0.5062386823640342\n",
      "tijd: 9.8 theta: -0.5979315125124949\n",
      "tijd: 9.9 theta: -0.664947748887913\n",
      "tijd: 10.0 theta: -0.7037100534563776\n",
      "tijd: 10.100000000000001 theta: -0.7118508522633351\n",
      "tijd: 10.200000000000001 theta: -0.6882047513113156\n",
      "tijd: 10.3 theta: -0.6327865341615249\n",
      "tijd: 10.4 theta: -0.5468000718212788\n",
      "tijd: 10.5 theta: -0.4326951649685472\n",
      "tijd: 10.600000000000001 theta: -0.29425343670920817\n",
      "tijd: 10.700000000000001 theta: -0.13664948992784015\n",
      "tijd: 10.8 theta: 0.033589664720457324\n",
      "tijd: 10.9 theta: 0.20880143366002327\n",
      "tijd: 11.0 theta: 0.3806155008222747\n",
      "tijd: 11.100000000000001 theta: 0.5405543390553524\n",
      "tijd: 11.200000000000001 theta: 0.6806906812508772\n",
      "tijd: 11.3 theta: 0.7942097026957969\n",
      "tijd: 11.4 theta: 0.8757563674104658\n",
      "tijd: 11.5 theta: 0.9215353779818367\n",
      "tijd: 11.600000000000001 theta: 0.929223220970719\n",
      "tijd: 11.700000000000001 theta: 0.8978041741330094\n",
      "tijd: 11.8 theta: 0.8274427073685104\n",
      "tijd: 11.9 theta: 0.7194688115960177\n",
      "tijd: 12.0 theta: 0.576500702624379\n",
      "tijd: 12.100000000000001 theta: 0.40267199854700875\n",
      "tijd: 12.200000000000001 theta: 0.20387199727061595\n",
      "tijd: 12.3 theta: -0.012142027114019543\n",
      "tijd: 12.4 theta: -0.23591658096603071\n",
      "tijd: 12.5 theta: -0.4568584445698526\n",
      "tijd: 12.600000000000001 theta: -0.6641379100276519\n",
      "tijd: 12.700000000000001 theta: -0.8477291656399265\n",
      "tijd: 12.8 theta: -0.9992818636843372\n",
      "tijd: 12.9 theta: -1.1125798266570257\n",
      "tijd: 13.0 theta: -1.1835317548995212\n",
      "tijd: 13.100000000000001 theta: -1.209828864043988\n",
      "tijd: 13.200000000000001 theta: -1.1904916688587348\n",
      "tijd: 13.3 theta: -1.1255056225218727\n",
      "tijd: 13.4 theta: -1.0156704088062007\n",
      "tijd: 13.5 theta: -0.8627117581533297\n",
      "tijd: 13.600000000000001 theta: -0.6696408239942913\n",
      "tijd: 13.700000000000001 theta: -0.4412797568585156\n",
      "tijd: 13.8 theta: -0.18478778395857032\n",
      "tijd: 13.9 theta: 0.09006702113923598\n",
      "tijd: 14.0 theta: 0.37117643697888897\n",
      "tijd: 14.100000000000001 theta: 0.6450674390148836\n",
      "tijd: 14.200000000000001 theta: 0.8984466427443978\n",
      "tijd: 14.3 theta: 1.1198306903818676\n",
      "tijd: 14.4 theta: 1.300665238795096\n",
      "tijd: 14.5 theta: 1.4355901351858784\n",
      "tijd: 14.600000000000001 theta: 1.5219427223958115\n",
      "tijd: 14.700000000000001 theta: 1.5588789793549989\n",
      "tijd: 14.8 theta: 1.5465043356449835\n",
      "tijd: 14.9 theta: 1.485256917898552\n",
      "tijd: 15.0 theta: 1.3756364310890854\n",
      "tijd: 15.100000000000001 theta: 1.2182913061335274\n",
      "tijd: 15.200000000000001 theta: 1.014449815373507\n",
      "tijd: 15.3 theta: 0.7666597103057691\n",
      "tijd: 15.4 theta: 0.4797371896816496\n",
      "tijd: 15.5 theta: 0.1616909610985484\n",
      "tijd: 15.600000000000001 theta: -0.17579056155948103\n",
      "tijd: 15.700000000000001 theta: -0.5177856486988107\n",
      "tijd: 15.8 theta: -0.8477913430341474\n",
      "tijd: 15.9 theta: -1.150244074456031\n",
      "tijd: 16.0 theta: -1.4129310545852865\n",
      "tijd: 16.1 theta: -1.6282608478065854\n",
      "tijd: 16.2 theta: -1.7930466514957137\n",
      "tijd: 16.3 theta: -1.9072654780811749\n",
      "tijd: 16.400000000000002 theta: -1.9725473257279922\n",
      "tijd: 16.5 theta: -1.9909239672299104\n",
      "tijd: 16.6 theta: -1.9640183344648474\n",
      "tijd: 16.7 theta: -1.892642950605949\n",
      "tijd: 16.8 theta: -1.7767210353219005\n",
      "tijd: 16.900000000000002 theta: -1.6154743464117287\n",
      "tijd: 17.0 theta: -1.407875380432967\n",
      "tijd: 17.1 theta: -1.1534013010526825\n",
      "tijd: 17.2 theta: -0.8531208345474055\n",
      "tijd: 17.3 theta: -0.51104991842695\n",
      "tijd: 17.400000000000002 theta: -0.13548622583842385\n",
      "tijd: 17.5 theta: 0.26028740094549213\n",
      "tijd: 17.6 theta: 0.6587218242101247\n",
      "tijd: 17.7 theta: 1.0405613473915543\n",
      "tijd: 17.8 theta: 1.3885892518201772\n",
      "tijd: 17.900000000000002 theta: 1.6908651526226426\n",
      "tijd: 18.0 theta: 1.9419294323233214\n",
      "tijd: 18.1 theta: 2.1418358499106716\n",
      "tijd: 18.2 theta: 2.294079270384476\n",
      "tijd: 18.3 theta: 2.403574618194331\n",
      "tijd: 18.400000000000002 theta: 2.4752428015362744\n",
      "tijd: 18.5 theta: 2.513225977530554\n",
      "tijd: 18.6 theta: 2.5205414029827606\n",
      "tijd: 18.7 theta: 2.49898028828193\n",
      "tijd: 18.8 theta: 2.449122153680535\n",
      "tijd: 18.900000000000002 theta: 2.3703974507762107\n",
      "tijd: 19.0 theta: 2.261176405452717\n",
      "tijd: 19.1 theta: 2.118894923869648\n",
      "tijd: 19.200000000000003 theta: 1.9402570598726054\n",
      "tijd: 19.3 theta: 1.7215832503645832\n",
      "tijd: 19.400000000000002 theta: 1.4594025903052577\n",
      "tijd: 19.5 theta: 1.1513997312513404\n",
      "tijd: 19.6 theta: 0.7977805963884554\n",
      "tijd: 19.700000000000003 theta: 0.4029442467654709\n",
      "tijd: 19.8 theta: -0.023018333910436395\n",
      "tijd: 19.900000000000002 theta: -0.46393558436772037\n",
      "tijd: 20.0 theta: -0.8993158635578209\n",
      "tijd: 20.1 theta: -1.3084162536084099\n",
      "tijd: 20.200000000000003 theta: -1.6750634682031393\n",
      "tijd: 20.3 theta: -1.9907212174725721\n",
      "tijd: 20.400000000000002 theta: -2.254488503128129\n",
      "tijd: 20.5 theta: -2.4708752572740775\n",
      "tijd: 20.6 theta: -2.64711109922239\n",
      "tijd: 20.700000000000003 theta: -2.791128723990882\n",
      "tijd: 20.8 theta: -2.9104519793074024\n",
      "tijd: 20.900000000000002 theta: -3.0117586569768693\n",
      "tijd: 21.0 theta: -3.1008269553210535\n",
      "tijd: 21.1 theta: -3.1826605633099256\n",
      "tijd: 21.200000000000003 theta: -3.261678869218044\n",
      "tijd: 21.3 theta: -3.341918754034771\n",
      "tijd: 21.400000000000002 theta: -3.4272263323240746\n",
      "tijd: 21.5 theta: -3.5214312919287694\n",
      "tijd: 21.6 theta: -3.628500712024769\n",
      "tijd: 21.700000000000003 theta: -3.752667197991921\n",
      "tijd: 21.8 theta: -3.898518899641346\n",
      "tijd: 21.900000000000002 theta: -4.071025730266428\n",
      "tijd: 22.0 theta: -4.275455313689598\n",
      "tijd: 22.1 theta: -4.517103364695119\n",
      "tijd: 22.200000000000003 theta: -4.8007315557167445\n",
      "tijd: 22.3 theta: -5.129592086880017\n",
      "tijd: 22.400000000000002 theta: -5.503972928994728\n",
      "tijd: 22.5 theta: -5.91940702835925\n",
      "tijd: 22.6 theta: -6.365120030965421\n",
      "tijd: 22.700000000000003 theta: -6.823810485235228\n",
      "tijd: 22.8 theta: -7.273903724082985\n",
      "tijd: 22.900000000000002 theta: -7.69427709706458\n",
      "tijd: 23.0 theta: -8.069462158722693\n",
      "tijd: 23.1 theta: -8.392518928430514\n",
      "tijd: 23.200000000000003 theta: -8.664478316069072\n",
      "tijd: 23.3 theta: -8.891653579968164\n",
      "tijd: 23.400000000000002 theta: -9.082789299463291\n",
      "tijd: 23.5 theta: -9.247110558009647\n",
      "tijd: 23.6 theta: -9.393355902661897\n",
      "tijd: 23.700000000000003 theta: -9.529478819176315\n",
      "tijd: 23.8 theta: -9.662701079032034\n",
      "tijd: 23.900000000000002 theta: -9.799712090121865\n",
      "tijd: 24.0 theta: -9.946901544395633\n",
      "tijd: 24.1 theta: -10.110563454649107\n",
      "tijd: 24.200000000000003 theta: -10.297026119031973\n",
      "tijd: 24.3 theta: -10.512654931538105\n",
      "tijd: 24.400000000000002 theta: -10.763650513062466\n",
      "tijd: 24.5 theta: -11.055532648079922\n",
      "tijd: 24.6 theta: -11.39218403654123\n",
      "tijd: 24.700000000000003 theta: -11.774380859878995\n",
      "tijd: 24.8 theta: -12.197952135267514\n",
      "tijd: 24.900000000000002 theta: -12.65216356279128\n",
      "-12.65216356279128\n"
     ]
    },
    {
     "data": {
      "image/png": "[encoded data removed]",
      "text/plain": [
       "<Figure size 432x288 with 1 Axes>"
      ]
     },
     "metadata": {
      "needs_background": "light"
     },
     "output_type": "display_data"
    }
   ],
   "source": [
    "if __name__ == \"__main__\":\n",
    "    main()"
   ]
  },
  {
   "cell_type": "code",
   "execution_count": null,
   "metadata": {},
   "outputs": [],
   "source": []
  }
 ],
 "metadata": {
  "kernelspec": {
   "display_name": "Python 3",
   "language": "python",
   "name": "python3"
  },
  "language_info": {
   "codemirror_mode": {
    "name": "ipython",
    "version": 3
   },
   "file_extension": ".py",
   "mimetype": "text/x-python",
   "name": "python",
   "nbconvert_exporter": "python",
   "pygments_lexer": "ipython3",
   "version": "3.7.5"
  }
 },
 "nbformat": 4,
 "nbformat_minor": 4
}
